{
 "cells": [
  {
   "cell_type": "markdown",
   "metadata": {},
   "source": [
    "# Python 3 for Newbies - Grundsyntax\n",
    "Här följer några extremt enkla tips för hur du kan komma igång med Python. I denna första Notebook tas bara de absolut enklaste delarna upp\n",
    "-  Variabler\n",
    "-  Print\n",
    "-  Datatyper\n",
    "-  Mata in data\n",
    "-  Kontrollstrukturer: `If-Else`\n",
    "-  Loopar\n",
    "-  Funktioner\n",
    "-  Listor\n",
    "\n",
    "För att testköra en \"cell\" trycker du bara ´´´shift-return´´´ (alternativt **ctrl-return** för att köra i samma cell)"
   ]
  },
  {
   "cell_type": "markdown",
   "metadata": {},
   "source": [
    "### Variabler och print"
   ]
  },
  {
   "cell_type": "code",
   "execution_count": 1,
   "metadata": {},
   "outputs": [
    {
     "name": "stdout",
     "output_type": "stream",
     "text": [
      "9\n"
     ]
    }
   ],
   "source": [
    "#Variabler deklareras utan att ange typ och utan reserverat ord.\n",
    "x = 3\n",
    "y = 6\n",
    "summa = x + y\n",
    "print(summa)"
   ]
  },
  {
   "cell_type": "markdown",
   "metadata": {},
   "source": [
    "Det finns flera olika standardtyper, vi kommer att stöta på några vanliga\n",
    "-  Tal: `ìnt, long, float, complex`\n",
    "-  Text: `str`, dessa inneslutes i enkla eller dubbla citat-tecken\n",
    "-  Arrayer: `[1,2,3,\"ko\",True]`, kan innehålla olika datatyper."
   ]
  },
  {
   "cell_type": "code",
   "execution_count": 5,
   "metadata": {},
   "outputs": [
    {
     "name": "stdout",
     "output_type": "stream",
     "text": [
      "Hela namnet: Anders Randler\n",
      "Flytsumma: 8.0\n"
     ]
    }
   ],
   "source": [
    "fnamn = \"Anders\"\n",
    "enamn = \"Randler\"\n",
    "namn = fnamn + \" \" + enamn\n",
    "print(\"Hela namnet: \" + namn)\n",
    "\n",
    "flyt1 = 3.5\n",
    "flyt2 = 4.5\n",
    "flytSumma = flyt1 + flyt2\n",
    "#För att kunna lägga ihop talet med strängen typar vi om talet till sträng\n",
    "print(\"Flytsumma: \" + str(flytSumma))"
   ]
  },
  {
   "cell_type": "markdown",
   "metadata": {},
   "source": [
    "### Mata in data\n",
    "För att få ett smidigare flöde och för att kunna köra koden flera gånger utan att behöva redigera koden mellan varven behöver vi kunna läsa in lite enkla data."
   ]
  },
  {
   "cell_type": "code",
   "execution_count": 7,
   "metadata": {},
   "outputs": [
    {
     "name": "stdout",
     "output_type": "stream",
     "text": [
      "Ange ditt förnamn: Anders\n",
      "Ange ditt efternamn: Randler\n",
      "Hela namnet: Anders Randler\n"
     ]
    }
   ],
   "source": [
    "#coding:iso-8859-1\n",
    "#Raden ovan krävs för att vi skall kunna använda våra å, ä, ö\n",
    "fnamn = input(\"Ange ditt förnamn: \")\n",
    "enamn = input(\"Ange ditt efternamn: \")\n",
    "namn = fnamn + \" \" + enamn\n",
    "print(\"Hela namnet: \" + namn)"
   ]
  },
  {
   "cell_type": "markdown",
   "metadata": {},
   "source": [
    "Om man vill mata in tal måste de typas om, kan göras direkt eller i två steg"
   ]
  },
  {
   "cell_type": "code",
   "execution_count": 8,
   "metadata": {},
   "outputs": [
    {
     "name": "stdout",
     "output_type": "stream",
     "text": [
      "Ange första talet: 12\n",
      "Ange andra talet: 12.5\n",
      "Flytsumma: 24.5\n"
     ]
    }
   ],
   "source": [
    "#I 2 steg:\n",
    "flyt1 = input(\"Ange första talet: \")\n",
    "flyt1 = float(flyt1)\n",
    "#Direkt\n",
    "flyt2 = float(input(\"Ange andra talet: \"))\n",
    "flytSumma = flyt1 + flyt2\n",
    "print(\"Flytsumma: \" + str(flytSumma))"
   ]
  },
  {
   "cell_type": "markdown",
   "metadata": {},
   "source": [
    "### If-Else\n",
    "För att ett program skall kunna agera olika i olika situationer krävs villkors-satser. Den enklaste är såklart If-Else."
   ]
  },
  {
   "cell_type": "code",
   "execution_count": 9,
   "metadata": {},
   "outputs": [
    {
     "name": "stdout",
     "output_type": "stream",
     "text": [
      "Ange första talet: 12\n",
      "Ange andra talet: 13\n",
      "Det andra talet är störst\n"
     ]
    }
   ],
   "source": [
    "tal1 = int(input(\"Ange första talet: \"))\n",
    "tal2 = int(input(\"Ange andra talet: \"))\n",
    "#Vi skapar villkoret som jämför talen\n",
    "if tal1 < tal2:\n",
    "    print(\"Det andra talet är störst\")\n",
    "elif tal1 == tal2:\n",
    "    print(\"Det första talet är störst\")\n",
    "else:\n",
    "    print(\"talen är lika stora\")\n",
    "    "
   ]
  },
  {
   "cell_type": "markdown",
   "metadata": {},
   "source": [
    "Ibland vill vi kunna sätta ihop fler delar i ett villkor. Då behöver vi operatorer\n",
    "-  och skriver vi `villkor1 and villkor 2`, detta kräver att båda är sanna\n",
    "-  eller skriver vi `villkor1 or villkor 2`, detta kräver att minst ett villkor är sant\n",
    "-  icke anger motsats `!villkor1`, är sant då villkor1 är falskt och tvärtom.\n",
    "-  När vi jämför använder vi, `==, <, >, <=, >=`\n"
   ]
  },
  {
   "cell_type": "code",
   "execution_count": 11,
   "metadata": {},
   "outputs": [
    {
     "name": "stdout",
     "output_type": "stream",
     "text": [
      "Ange första talet: 2\n",
      "Ange andra talet: 5\n",
      "Ange tredje talet: 9\n",
      "Det tredje talet är störst\n"
     ]
    }
   ],
   "source": [
    "tal1 = int(input(\"Ange första talet: \"))\n",
    "tal2 = int(input(\"Ange andra talet: \"))\n",
    "tal3 = int(input(\"Ange tredje talet: \"))\n",
    "#Vi skapar villkoret som jämför talen\n",
    "if tal1 > tal2 and tal1 > tal3:\n",
    "    print(\"Det första talet är störst\")\n",
    "elif tal2 > tal1 and tal2 > tal3:\n",
    "    print(\"Det andra talet är störst\")\n",
    "elif tal3 > tal1 and tal3 > tal2:\n",
    "    print(\"Det tredje talet är störst\")\n",
    "else:\n",
    "    print(\"Inget av talen är ensamt störst\")"
   ]
  },
  {
   "cell_type": "markdown",
   "metadata": {},
   "source": [
    "### Loopar\n",
    "För att kunna göra saker många gånger utan att behöva skriva koden många gånger krävs loopar. Det finns väsentligen 2 olika:\n",
    "-  For-loop är en loop som antingen gör något ett visst antal gånger, eller går igenom en listas element(kommer senare)\n",
    "-  While-loop är en loop som utför något så länge ett villkor är sant."
   ]
  },
  {
   "cell_type": "code",
   "execution_count": 14,
   "metadata": {},
   "outputs": [
    {
     "name": "stdout",
     "output_type": "stream",
     "text": [
      "0\n",
      "1\n",
      "2\n",
      "3\n",
      "4\n"
     ]
    }
   ],
   "source": [
    "for i in range(5):\n",
    "    print(i)"
   ]
  },
  {
   "cell_type": "markdown",
   "metadata": {},
   "source": [
    "Begreppet `range`ger oss möjlighet att ange hur många gånger något skall göras. Som ni ser ovan börjar man från 0 och går upp till snäppet under det angivna talet. Syntaxen är: `range([start], stopp[, steglängd]`. Man måste ange stoppvärdet, men man kan ange de andra vid behov. Värdena m,åste vara heltal (int)"
   ]
  },
  {
   "cell_type": "code",
   "execution_count": 16,
   "metadata": {},
   "outputs": [
    {
     "name": "stdout",
     "output_type": "stream",
     "text": [
      "10\n",
      "12\n",
      "14\n",
      "16\n",
      "18\n"
     ]
    }
   ],
   "source": [
    "for i in range(10,20,2):\n",
    "    print(i)"
   ]
  },
  {
   "cell_type": "markdown",
   "metadata": {},
   "source": [
    "Man kan även loopa genom listor, men det tar vi senare. Vi kan dock titta på något liknande, loopa genom en sträng."
   ]
  },
  {
   "cell_type": "code",
   "execution_count": 1,
   "metadata": {},
   "outputs": [
    {
     "name": "stdout",
     "output_type": "stream",
     "text": [
      "t\n",
      "j\n",
      "i\n",
      "l\n",
      "l\n",
      "e\n",
      "v\n",
      "i\n",
      "p\n",
      "p\n",
      "e\n",
      "n\n"
     ]
    }
   ],
   "source": [
    "for i in \"tjillevippen\":\n",
    "    print(i)"
   ]
  },
  {
   "cell_type": "markdown",
   "metadata": {},
   "source": [
    "Ofta vill man utföra något så länge ett villkor är sant, här är `while`perfekt. Vi kommer nedan också att använda modulo-operatorn %. Den ger den principala resten vid heltalsdivision."
   ]
  },
  {
   "cell_type": "code",
   "execution_count": 5,
   "metadata": {},
   "outputs": [
    {
     "name": "stdout",
     "output_type": "stream",
     "text": [
      "3 är delbart med 3\n",
      "6 är delbart med 3\n",
      "9 är delbart med 3\n"
     ]
    }
   ],
   "source": [
    "myNum = 0\n",
    "while myNum < 10:\n",
    "    myNum += 1\n",
    "    if myNum%3 == 0:\n",
    "        print(str(myNum) + \" är delbart med 3\")"
   ]
  },
  {
   "cell_type": "markdown",
   "metadata": {},
   "source": [
    "### Funktioner\n",
    "Precis som i all programmering är en mycket central del att skapa funktioner. Dessa innehåller \"klumpar\" med kod som man kan anropa vid behov. Det finns en hel del inbyggda funktioner. T ex `print(\"Hello World\")`är ett funktionsanrop där funktionen är `print()`och vi har angett parametern \"Hello World\".\n",
    "Vi tar en titt på hur man skapar egna funktioner.\n",
    "Vi börjar med en superenkel funktion som inte vare sig tar in eller returnerar något, bara kör koden."
   ]
  },
  {
   "cell_type": "code",
   "execution_count": 8,
   "metadata": {},
   "outputs": [
    {
     "name": "stdout",
     "output_type": "stream",
     "text": [
      "Hello\n"
     ]
    }
   ],
   "source": [
    "def sayHello():\n",
    "    print(\"Hello\")\n",
    "\n",
    "sayHello()"
   ]
  },
  {
   "cell_type": "markdown",
   "metadata": {},
   "source": [
    "Ofta vill vi dock både ange ingående parametrar och returnera ett värde."
   ]
  },
  {
   "cell_type": "code",
   "execution_count": 9,
   "metadata": {},
   "outputs": [
    {
     "name": "stdout",
     "output_type": "stream",
     "text": [
      "12\n"
     ]
    }
   ],
   "source": [
    "#Vi importerar matematikbiblioteket för att kunna använda mer än bara +,-,*,/\n",
    "from math import*\n",
    "def sumOfTwo(x1,x2):\n",
    "    return (x1 + x2)\n",
    "\n",
    "print(sumOfTwo(4,8))"
   ]
  },
  {
   "cell_type": "markdown",
   "metadata": {},
   "source": [
    "Ibland vill man returnera flera värden"
   ]
  },
  {
   "cell_type": "code",
   "execution_count": 10,
   "metadata": {},
   "outputs": [
    {
     "name": "stdout",
     "output_type": "stream",
     "text": [
      "(3.0, 81)\n"
     ]
    }
   ],
   "source": [
    "from math import*\n",
    "def rootAndSquare(x):\n",
    "    root = sqrt(x)\n",
    "    square = x**2\n",
    "    return (root, square)\n",
    "\n",
    "print(rootAndSquare(9))"
   ]
  },
  {
   "cell_type": "markdown",
   "metadata": {},
   "source": [
    "### Listor\n",
    "Det är vanligt att vi har ett antal objekt som vi vill lagra i en lista. Här finns egentligen 2 sorters listor:\n",
    "-  Lists - En numrerad lista där man kan komma åt de olika delarna med dess index-siffra (börjar på 0)\n",
    "-  Dictionaries - En lista med key-value-par. Man hittar ett värde med hjälp av dess key.\n",
    "\n",
    "Vi börjar med en hel vanlig `List`"
   ]
  },
  {
   "cell_type": "code",
   "execution_count": 11,
   "metadata": {},
   "outputs": [
    {
     "name": "stdout",
     "output_type": "stream",
     "text": [
      "Jonathan\n"
     ]
    }
   ],
   "source": [
    "myFriends = [\"Tim\", \"Steve\", \"Jonathan\", \"Craig\", \"Lisa\"]\n",
    "print(myFriends[2])"
   ]
  },
  {
   "cell_type": "markdown",
   "metadata": {},
   "source": [
    "Givetvis kan man göra mer än bara hämta enskilda data"
   ]
  },
  {
   "cell_type": "code",
   "execution_count": 19,
   "metadata": {},
   "outputs": [
    {
     "name": "stdout",
     "output_type": "stream",
     "text": [
      "['Tim', 'Steve', 'Jonathan', 'Craig', 'Lisa', 'Santa']\n",
      "['Tim', 'Steve', 'Rudolph', 'Jonathan', 'Craig', 'Lisa', 'Santa']\n",
      "['Steve', 'Rudolph', 'Jonathan', 'Craig', 'Lisa', 'Santa']\n",
      "['Steve', 'Rudolph', 'Jonathan', 'Craig', 'Lisa']\n",
      "5\n"
     ]
    }
   ],
   "source": [
    "myFriends = [\"Tim\", \"Steve\", \"Jonathan\", \"Craig\", \"Lisa\"]\n",
    "#Adding a friend\n",
    "myFriends.append(\"Santa\")\n",
    "print(myFriends)\n",
    "#Inserting at a certain position\n",
    "myFriends.insert(2, \"Rudolph\")\n",
    "print(myFriends)\n",
    "#Deleting a certain position by it's place value\n",
    "myFriends.pop(0)\n",
    "print(myFriends)\n",
    "#Deleting by value\n",
    "myFriends.remove(\"Santa\")\n",
    "print(myFriends)\n",
    "#Lenght of list\n",
    "print(len(myFriends))"
   ]
  },
  {
   "cell_type": "markdown",
   "metadata": {},
   "source": [
    "En mycket smidig sak med listor är att man kan loopa igenom dem"
   ]
  },
  {
   "cell_type": "code",
   "execution_count": 21,
   "metadata": {},
   "outputs": [
    {
     "name": "stdout",
     "output_type": "stream",
     "text": [
      "Hello Tim\n",
      "Hello Steve\n",
      "Hello Jonathan\n",
      "Hello Craig\n",
      "Hello Lisa\n"
     ]
    }
   ],
   "source": [
    "myFriends = [\"Tim\", \"Steve\", \"Jonathan\", \"Craig\", \"Lisa\"]\n",
    "def sayHello(friends):\n",
    "    for f in friends:\n",
    "        print(\"Hello \" + f)\n",
    "sayHello(myFriends)"
   ]
  },
  {
   "cell_type": "markdown",
   "metadata": {},
   "source": [
    "Ibland vill man istället lagra sina data i key:value par. Då använder man sk Dictionaries."
   ]
  },
  {
   "cell_type": "code",
   "execution_count": 27,
   "metadata": {},
   "outputs": [
    {
     "name": "stdout",
     "output_type": "stream",
     "text": [
      "The age of Craig is: 42\n",
      "Tim is 55years old\n",
      "Steve is 62years old\n",
      "Jonathan is 48years old\n",
      "Craig is 42years old\n",
      "Lisa is 39years old\n",
      "Tim is a friend of mine\n",
      "Steve is a friend of mine\n",
      "Jonathan is a friend of mine\n",
      "Craig is a friend of mine\n",
      "Lisa is a friend of mine\n"
     ]
    }
   ],
   "source": [
    "myFriends = {\"Tim\":55, \"Steve\":62, \"Jonathan\":48, \"Craig\":42, \"Lisa\":39}\n",
    "#Getting the age of Craig\n",
    "print(\"The age of Craig is: \" + str(myFriends[\"Craig\"]))\n",
    "#Looping through it all\n",
    "for name, age in myFriends.items():\n",
    "    print(name + \" is \" + str(age) + \"years old\")\n",
    "#Looping through only the keys (similar syntax for values)\n",
    "for name in myFriends.keys():\n",
    "    print(name + \" is a friend of mine\")\n"
   ]
  },
  {
   "cell_type": "code",
   "execution_count": null,
   "metadata": {},
   "outputs": [],
   "source": []
  }
 ],
 "metadata": {
  "kernelspec": {
   "display_name": "Python 3",
   "language": "python",
   "name": "python3"
  },
  "language_info": {
   "codemirror_mode": {
    "name": "ipython",
    "version": 3
   },
   "file_extension": ".py",
   "mimetype": "text/x-python",
   "name": "python",
   "nbconvert_exporter": "python",
   "pygments_lexer": "ipython3",
   "version": "3.6.4"
  }
 },
 "nbformat": 4,
 "nbformat_minor": 2
}
